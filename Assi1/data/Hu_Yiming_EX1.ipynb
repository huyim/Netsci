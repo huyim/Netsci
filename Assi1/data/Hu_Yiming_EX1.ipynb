{
 "cells": [
  {
   "cell_type": "code",
   "execution_count": null,
   "metadata": {},
   "outputs": [],
   "source": [
    "import networkx as nx\n",
    "import matplotlib.pyplot as plt\n",
    "import numpy as np"
   ]
  }
 ],
 "metadata": {
  "kernelspec": {
   "display_name": "Python 3.10.7 64-bit",
   "language": "python",
   "name": "python3"
  },
  "language_info": {
   "name": "python",
   "version": "3.10.7"
  },
  "orig_nbformat": 4,
  "vscode": {
   "interpreter": {
    "hash": "a391db115e12a33a1b457ef13afabb923642df2cfc440a25b19c350ca940538e"
   }
  }
 },
 "nbformat": 4,
 "nbformat_minor": 2
}
