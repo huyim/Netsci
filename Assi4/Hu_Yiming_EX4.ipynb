{
 "cells": [
  {
   "cell_type": "code",
   "execution_count": 2,
   "metadata": {},
   "outputs": [],
   "source": [
    "import networkx as nx\n",
    "import matplotlib.pyplot as plt\n",
    "import numpy as np\n",
    "import scipy.stats as sp"
   ]
  },
  {
   "cell_type": "code",
   "execution_count": 4,
   "metadata": {},
   "outputs": [],
   "source": [
    "#A04.1 Community detection\n",
    "#Load data\n",
    "g_dolphins = nx.read_gml(\"data/graph_dolphins.gml\")\n",
    "g_jazz = nx.read_gml(\"data/graph_jazz_collab.gml\")\n",
    "g_karate = nx.read_gml(\"data/graph_karate.gml\")\n"
   ]
  },
  {
   "cell_type": "code",
   "execution_count": 5,
   "metadata": {},
   "outputs": [],
   "source": [
    "#Randomise\n",
    "grnd_dolphins = nx.algorithms.smallworld.random_reference(g_dolphins,niter = 20, connectivity=False)\n",
    "grnd_jazz = nx.algorithms.smallworld.random_reference(g_jazz,niter = 20, connectivity=False)\n",
    "grnd_karate = nx.algorithms.smallworld.random_reference(g_karate,niter = 20, connectivity=False)"
   ]
  },
  {
   "cell_type": "code",
   "execution_count": null,
   "metadata": {},
   "outputs": [],
   "source": [
    "#A04.2 Erdos-Renyi random networks\n",
    "#1. Plot the average fraction of nodes in the largest connected component ⟨𝑁𝐺/𝑁⟩ as a function of 𝑝 and mark with a vertical line the critical probability 𝑝𝑐 = 1/�"
   ]
  },
  {
   "cell_type": "code",
   "execution_count": null,
   "metadata": {},
   "outputs": [],
   "source": [
    "#2. Plot the average clustering ⟨𝐶⟩ as a function of 𝑝 and give an interpretation of the result"
   ]
  },
  {
   "cell_type": "code",
   "execution_count": null,
   "metadata": {},
   "outputs": [],
   "source": [
    "#A04.3 Small-world with high clustering"
   ]
  }
 ],
 "metadata": {
  "kernelspec": {
   "display_name": "Python 3.10.6 64-bit",
   "language": "python",
   "name": "python3"
  },
  "language_info": {
   "codemirror_mode": {
    "name": "ipython",
    "version": 3
   },
   "file_extension": ".py",
   "mimetype": "text/x-python",
   "name": "python",
   "nbconvert_exporter": "python",
   "pygments_lexer": "ipython3",
   "version": "3.10.6"
  },
  "orig_nbformat": 4,
  "vscode": {
   "interpreter": {
    "hash": "b0fa6594d8f4cbf19f97940f81e996739fb7646882a419484c72d19e05852a7e"
   }
  }
 },
 "nbformat": 4,
 "nbformat_minor": 2
}
