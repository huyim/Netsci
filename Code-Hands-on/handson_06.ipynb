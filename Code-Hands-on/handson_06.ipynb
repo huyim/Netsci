{
 "cells": [
  {
   "cell_type": "markdown",
   "id": "cb7487d8",
   "metadata": {},
   "source": [
    "## Install NEMtropy\n",
    "\n",
    "Example notebooks are available at https://github.com/nicoloval/NEMtropy/tree/master/examples"
   ]
  },
  {
   "cell_type": "code",
   "execution_count": 5,
   "id": "1ff8beb4",
   "metadata": {},
   "outputs": [
    {
     "name": "stdout",
     "output_type": "stream",
     "text": [
      "Requirement already satisfied: NEMtropy in /opt/homebrew/lib/python3.10/site-packages (2.1.1)\n",
      "Requirement already satisfied: tqdm>=4.5 in /opt/homebrew/lib/python3.10/site-packages (from NEMtropy) (4.64.1)\n",
      "Requirement already satisfied: scipy>=1.4 in /opt/homebrew/lib/python3.10/site-packages (from NEMtropy) (1.9.3)\n",
      "Requirement already satisfied: numpy>=1.17 in /opt/homebrew/lib/python3.10/site-packages (from NEMtropy) (1.23.3)\n",
      "Requirement already satisfied: networkx>=2.4 in /opt/homebrew/lib/python3.10/site-packages (from NEMtropy) (2.8.8)\n",
      "Requirement already satisfied: powerlaw>=1.4 in /opt/homebrew/lib/python3.10/site-packages (from NEMtropy) (1.5)\n",
      "Requirement already satisfied: matplotlib in /opt/homebrew/lib/python3.10/site-packages (from powerlaw>=1.4->NEMtropy) (3.6.0)\n",
      "Requirement already satisfied: mpmath in /opt/homebrew/lib/python3.10/site-packages (from powerlaw>=1.4->NEMtropy) (1.2.1)\n",
      "Requirement already satisfied: python-dateutil>=2.7 in /Users/hu/Library/Python/3.10/lib/python/site-packages (from matplotlib->powerlaw>=1.4->NEMtropy) (2.8.2)\n",
      "Requirement already satisfied: kiwisolver>=1.0.1 in /opt/homebrew/lib/python3.10/site-packages (from matplotlib->powerlaw>=1.4->NEMtropy) (1.4.4)\n",
      "Requirement already satisfied: contourpy>=1.0.1 in /opt/homebrew/lib/python3.10/site-packages (from matplotlib->powerlaw>=1.4->NEMtropy) (1.0.5)\n",
      "Requirement already satisfied: pillow>=6.2.0 in /opt/homebrew/lib/python3.10/site-packages (from matplotlib->powerlaw>=1.4->NEMtropy) (9.2.0)\n",
      "Requirement already satisfied: packaging>=20.0 in /Users/hu/Library/Python/3.10/lib/python/site-packages (from matplotlib->powerlaw>=1.4->NEMtropy) (21.3)\n",
      "Requirement already satisfied: pyparsing>=2.2.1 in /Users/hu/Library/Python/3.10/lib/python/site-packages (from matplotlib->powerlaw>=1.4->NEMtropy) (3.0.9)\n",
      "Requirement already satisfied: cycler>=0.10 in /opt/homebrew/lib/python3.10/site-packages (from matplotlib->powerlaw>=1.4->NEMtropy) (0.11.0)\n",
      "Requirement already satisfied: fonttools>=4.22.0 in /opt/homebrew/lib/python3.10/site-packages (from matplotlib->powerlaw>=1.4->NEMtropy) (4.37.4)\n",
      "Requirement already satisfied: six>=1.5 in /Users/hu/Library/Python/3.10/lib/python/site-packages (from python-dateutil>=2.7->matplotlib->powerlaw>=1.4->NEMtropy) (1.16.0)\n",
      "Note: you may need to restart the kernel to use updated packages.\n"
     ]
    }
   ],
   "source": [
    "pip install --upgrade NEMtropy"
   ]
  },
  {
   "cell_type": "markdown",
   "id": "1d6b8978",
   "metadata": {},
   "source": [
    "## Basic usage"
   ]
  },
  {
   "cell_type": "code",
   "execution_count": 6,
   "id": "f296ca42",
   "metadata": {},
   "outputs": [],
   "source": [
    "import networkx as nx\n",
    "import numpy as np\n",
    "from NEMtropy import UndirectedGraph, DirectedGraph\n",
    "from NEMtropy.network_functions import build_adjacency_from_edgelist"
   ]
  },
  {
   "cell_type": "code",
   "execution_count": 7,
   "id": "9849dd7a",
   "metadata": {},
   "outputs": [],
   "source": [
    "# let's take Zachary's Karate Club network\n",
    "g = nx.karate_club_graph()"
   ]
  },
  {
   "cell_type": "code",
   "execution_count": 8,
   "id": "c9853a87",
   "metadata": {},
   "outputs": [],
   "source": [
    "# then we convert it to numpy adjacency matrix\n",
    "adj_kar = nx.to_numpy_array(g)"
   ]
  },
  {
   "cell_type": "code",
   "execution_count": 9,
   "id": "fd198de9",
   "metadata": {},
   "outputs": [],
   "source": [
    "# and we initialize a NEMtropy UndirectedGraph object\n",
    "graph = UndirectedGraph(adj_kar)"
   ]
  },
  {
   "cell_type": "code",
   "execution_count": 10,
   "id": "6dd5e089",
   "metadata": {},
   "outputs": [
    {
     "name": "stderr",
     "output_type": "stream",
     "text": [
      "/opt/homebrew/lib/python3.10/site-packages/numba/core/utils.py:612: NumbaExperimentalFeatureWarning: First-class function type feature is experimental\n",
      "  warnings.warn(\"First-class function type feature is experimental\",\n",
      "/opt/homebrew/lib/python3.10/site-packages/NEMtropy/models_functions.py:461: NumbaExperimentalFeatureWarning: First-class function type feature is experimental\n",
      "  step_fun = args[0]\n",
      "/opt/homebrew/lib/python3.10/site-packages/NEMtropy/models_functions.py:462: NumbaExperimentalFeatureWarning: First-class function type feature is experimental\n",
      "  arg_step_fun = args[1]\n",
      "/opt/homebrew/lib/python3.10/site-packages/numba/core/utils.py:612: NumbaExperimentalFeatureWarning: First-class function type feature is experimental\n",
      "  warnings.warn(\"First-class function type feature is experimental\",\n"
     ]
    },
    {
     "name": "stdout",
     "output_type": "stream",
     "text": [
      "\n",
      "solution error = 2.2218271222840258e-08\n"
     ]
    }
   ],
   "source": [
    "# then we need to solve the maximum likelihood problem for the model of our choice\n",
    "# model choices for UndirectedGraph are \"cm_exp\", \"ecm_exp\" \n",
    "# and \"crema\" which is a faster implementation of \"ecm_exp\"\n",
    "# don't worry about warnings, it's normal\n",
    "\n",
    "graph.solve_tool(model=\"cm_exp\")"
   ]
  },
  {
   "cell_type": "code",
   "execution_count": 11,
   "id": "36924a68",
   "metadata": {},
   "outputs": [],
   "source": [
    "# now \"graph\" contains the maximum likelihood solution and we can use it to sample networks from the ERGM\n",
    "graph.ensemble_sampler(10, cpu_n=1, output_dir=\"sample/\")\n",
    "\n",
    "# this saves networks in form of edgelists in the output_dir subfolder"
   ]
  },
  {
   "cell_type": "code",
   "execution_count": 12,
   "id": "6a6adeb8",
   "metadata": {},
   "outputs": [],
   "source": [
    "# so now we can load the samples and analyze them\n",
    "\n",
    "clust = []\n",
    "clust_orig = nx.average_clustering(g)\n",
    "\n",
    "for i in range(10):\n",
    "    edgelist_ens = np.loadtxt(f\"sample/{i}.txt\")\n",
    "    net = nx.Graph()\n",
    "    net.add_edges_from(edgelist_ens)\n",
    "    clust.append(nx.average_clustering(net))"
   ]
  },
  {
   "cell_type": "code",
   "execution_count": 13,
   "id": "c7c40a5d",
   "metadata": {},
   "outputs": [
    {
     "data": {
      "text/plain": [
       "<matplotlib.collections.LineCollection at 0x17aca0790>"
      ]
     },
     "execution_count": 13,
     "metadata": {},
     "output_type": "execute_result"
    },
    {
     "data": {
      "image/png": "[encoded data removed]",
      "text/plain": [
       "<Figure size 640x480 with 1 Axes>"
      ]
     },
     "metadata": {},
     "output_type": "display_data"
    }
   ],
   "source": [
    "import matplotlib.pyplot as plt\n",
    "\n",
    "plt.hist(clust)\n",
    "plt.vlines(clust_orig, 0,3, \"red\")"
   ]
  },
  {
   "cell_type": "markdown",
   "id": "8fd879a4",
   "metadata": {},
   "source": [
    "## For weighted networks"
   ]
  },
  {
   "cell_type": "code",
   "execution_count": 14,
   "id": "5a0c7b45",
   "metadata": {},
   "outputs": [
    {
     "name": "stderr",
     "output_type": "stream",
     "text": [
      "/opt/homebrew/lib/python3.10/site-packages/numba/core/utils.py:612: NumbaExperimentalFeatureWarning: First-class function type feature is experimental\n",
      "  warnings.warn(\"First-class function type feature is experimental\",\n",
      "/opt/homebrew/lib/python3.10/site-packages/numba/core/utils.py:612: NumbaExperimentalFeatureWarning: First-class function type feature is experimental\n",
      "  warnings.warn(\"First-class function type feature is experimental\",\n",
      "/opt/homebrew/lib/python3.10/site-packages/NEMtropy/models_functions.py:1554: NumbaExperimentalFeatureWarning: First-class function type feature is experimental\n",
      "  step_fun = args[0]\n",
      "/opt/homebrew/lib/python3.10/site-packages/NEMtropy/models_functions.py:1555: NumbaExperimentalFeatureWarning: First-class function type feature is experimental\n",
      "  arg_step_fun = args[1]\n",
      "/opt/homebrew/lib/python3.10/site-packages/numba/core/utils.py:612: NumbaExperimentalFeatureWarning: First-class function type feature is experimental\n",
      "  warnings.warn(\"First-class function type feature is experimental\",\n"
     ]
    },
    {
     "name": "stdout",
     "output_type": "stream",
     "text": [
      "\n",
      "solution error = 1.1472787342370339e-07\n"
     ]
    }
   ],
   "source": [
    "# First of all we generate the adjacency matrix of a weighted undirected graph using the matrix_generator module of NEMtropy\n",
    "from NEMtropy import matrix_generator\n",
    "\n",
    "adj_weigh = matrix_generator.random_weighted_matrix_generator_uniform_custom_density(n=30,\n",
    "                                                                                     p=0.2,\n",
    "                                                                                     sym=True,\n",
    "                                                                                     sup_ext=30,\n",
    "                                                                                     intweights=True)\n",
    "\n",
    "# Then we intialise the graph instance\n",
    "graph = UndirectedGraph(adj_weigh)\n",
    "\n",
    "# use model \"crema\", which is a slightly more optimal version of the UECM and DECM models\n",
    "graph.solve_tool(model=\"crema\",\n",
    "                 method=\"newton\",\n",
    "                 initial_guess=\"random\",\n",
    "                 adjacency=\"cm_exp\",\n",
    "                 method_adjacency=\"newton\")"
   ]
  },
  {
   "cell_type": "code",
   "execution_count": 15,
   "id": "7e7aa08d",
   "metadata": {},
   "outputs": [],
   "source": [
    "# sample some weighted random networks\n",
    "graph.ensemble_sampler(10, cpu_n=1, output_dir='sample/')"
   ]
  },
  {
   "cell_type": "code",
   "execution_count": 16,
   "id": "25dcced4",
   "metadata": {},
   "outputs": [],
   "source": [
    "# to read the adjacency list we now need a method that maps it to a weighted adjacency matrix\n",
    "edgelist_ens = np.loadtxt(\"sample/0.txt\")\n",
    "\n",
    "ens_adj = build_adjacency_from_edgelist(edgelist = edgelist_ens,\n",
    "                                        is_directed = False,\n",
    "                                        is_sparse = False,\n",
    "                                        is_weighted = True)\n",
    "\n",
    "# and generate a networkx graph from it\n",
    "G = nx.from_numpy_array(ens_adj)"
   ]
  },
  {
   "cell_type": "code",
   "execution_count": null,
   "id": "d5dcd456",
   "metadata": {},
   "outputs": [],
   "source": []
  }
 ],
 "metadata": {
  "kernelspec": {
   "display_name": "Python 3.10.6 64-bit",
   "language": "python",
   "name": "python3"
  },
  "language_info": {
   "codemirror_mode": {
    "name": "ipython",
    "version": 3
   },
   "file_extension": ".py",
   "mimetype": "text/x-python",
   "name": "python",
   "nbconvert_exporter": "python",
   "pygments_lexer": "ipython3",
   "version": "3.10.6"
  },
  "vscode": {
   "interpreter": {
    "hash": "b0fa6594d8f4cbf19f97940f81e996739fb7646882a419484c72d19e05852a7e"
   }
  }
 },
 "nbformat": 4,
 "nbformat_minor": 5
}
