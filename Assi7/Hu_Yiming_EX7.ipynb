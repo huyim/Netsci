{
 "cells": [
  {
   "cell_type": "code",
   "execution_count": 2,
   "metadata": {},
   "outputs": [],
   "source": [
    "import networkx as nx\n",
    "import matplotlib.pyplot as plt\n",
    "import numpy as np\n",
    "import scipy.stats as sp"
   ]
  },
  {
   "cell_type": "markdown",
   "metadata": {},
   "source": [
    "A07.1 - Correlation MSTs\n",
    "\n",
    "Task: Build MSTs from correlations and analyze them\n",
    "\n",
    "+ from the correlation matrices, build the Minimum Spanning Trees (see lecture)\n",
    "\n",
    "+ assign the correct ticker (’AAPL’, ’AMZN’, ...) as an attribute to the nodes and calculate the \n",
    "\n",
    "+ compare the MST degree distributions of the 1 hour, 1 minute, Normal and One-Factor correlations"
   ]
  },
  {
   "cell_type": "code",
   "execution_count": 3,
   "metadata": {},
   "outputs": [],
   "source": [
    "# Load data\n",
    "cormat = np.load('./data/cormat_1h.npy')"
   ]
  },
  {
   "cell_type": "markdown",
   "metadata": {},
   "source": [
    "A07.2 - Conclusions\n",
    "Task: finish the analysis by drawing conclusions Answer the following questions (for both timescales):\n",
    "\n",
    "1. Is there a ‘market mode’?\n",
    "\n",
    "2. Which are the 5 stocks with highest degree on the 1 minute and 1 hour MST?\n",
    "\n",
    "3. Is the degree distribution of MSTs qualitatively the same at 1 minute and 1 hour?\n",
    "\n",
    "4. Is the degree distribution of MSTs well reproduced by the null Gaussian and One-Factor models?"
   ]
  }
 ],
 "metadata": {
  "kernelspec": {
   "display_name": "Python 3.10.6 64-bit",
   "language": "python",
   "name": "python3"
  },
  "language_info": {
   "codemirror_mode": {
    "name": "ipython",
    "version": 3
   },
   "file_extension": ".py",
   "mimetype": "text/x-python",
   "name": "python",
   "nbconvert_exporter": "python",
   "pygments_lexer": "ipython3",
   "version": "3.10.6"
  },
  "orig_nbformat": 4,
  "vscode": {
   "interpreter": {
    "hash": "b0fa6594d8f4cbf19f97940f81e996739fb7646882a419484c72d19e05852a7e"
   }
  }
 },
 "nbformat": 4,
 "nbformat_minor": 2
}
